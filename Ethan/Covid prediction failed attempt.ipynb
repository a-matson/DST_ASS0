{
 "cells": [
  {
   "cell_type": "markdown",
   "id": "feb4c0e4",
   "metadata": {},
   "source": [
    "We will examine the Covid-19 binary prediction example in more detail and suggest the glioma grading dataset as a good route for further analysis in future assessments.\n",
    "\n",
    "First we import the libraries and load the data."
   ]
  },
  {
   "cell_type": "code",
   "execution_count": 2,
   "id": "9d95160e",
   "metadata": {},
   "outputs": [],
   "source": [
    "# Importing required libraries\n",
    "\n",
    "import numpy as np\n",
    "import pandas as pd\n",
    "import seaborn as sns\n",
    "import matplotlib.pyplot as plt\n",
    "\n",
    "import warnings\n",
    "warnings.filterwarnings('ignore')"
   ]
  },
  {
   "cell_type": "code",
   "execution_count": 3,
   "id": "095d3379",
   "metadata": {},
   "outputs": [],
   "source": [
    "df = pd.read_csv('corona.csv')"
   ]
  },
  {
   "cell_type": "code",
   "execution_count": 4,
   "id": "46247887",
   "metadata": {},
   "outputs": [
    {
     "data": {
      "text/html": [
       "<div>\n",
       "<style scoped>\n",
       "    .dataframe tbody tr th:only-of-type {\n",
       "        vertical-align: middle;\n",
       "    }\n",
       "\n",
       "    .dataframe tbody tr th {\n",
       "        vertical-align: top;\n",
       "    }\n",
       "\n",
       "    .dataframe thead th {\n",
       "        text-align: right;\n",
       "    }\n",
       "</style>\n",
       "<table border=\"1\" class=\"dataframe\">\n",
       "  <thead>\n",
       "    <tr style=\"text-align: right;\">\n",
       "      <th></th>\n",
       "      <th>Ind_ID</th>\n",
       "      <th>Test_date</th>\n",
       "      <th>Cough_symptoms</th>\n",
       "      <th>Fever</th>\n",
       "      <th>Sore_throat</th>\n",
       "      <th>Shortness_of_breath</th>\n",
       "      <th>Headache</th>\n",
       "      <th>Corona</th>\n",
       "      <th>Age_60_above</th>\n",
       "      <th>Sex</th>\n",
       "      <th>Known_contact</th>\n",
       "    </tr>\n",
       "  </thead>\n",
       "  <tbody>\n",
       "    <tr>\n",
       "      <th>0</th>\n",
       "      <td>1</td>\n",
       "      <td>11-03-2020</td>\n",
       "      <td>True</td>\n",
       "      <td>False</td>\n",
       "      <td>True</td>\n",
       "      <td>False</td>\n",
       "      <td>False</td>\n",
       "      <td>negative</td>\n",
       "      <td>NaN</td>\n",
       "      <td>NaN</td>\n",
       "      <td>Abroad</td>\n",
       "    </tr>\n",
       "    <tr>\n",
       "      <th>1</th>\n",
       "      <td>2</td>\n",
       "      <td>11-03-2020</td>\n",
       "      <td>False</td>\n",
       "      <td>True</td>\n",
       "      <td>False</td>\n",
       "      <td>False</td>\n",
       "      <td>False</td>\n",
       "      <td>positive</td>\n",
       "      <td>NaN</td>\n",
       "      <td>NaN</td>\n",
       "      <td>Abroad</td>\n",
       "    </tr>\n",
       "    <tr>\n",
       "      <th>2</th>\n",
       "      <td>3</td>\n",
       "      <td>11-03-2020</td>\n",
       "      <td>False</td>\n",
       "      <td>True</td>\n",
       "      <td>False</td>\n",
       "      <td>False</td>\n",
       "      <td>False</td>\n",
       "      <td>positive</td>\n",
       "      <td>NaN</td>\n",
       "      <td>NaN</td>\n",
       "      <td>Abroad</td>\n",
       "    </tr>\n",
       "    <tr>\n",
       "      <th>3</th>\n",
       "      <td>4</td>\n",
       "      <td>11-03-2020</td>\n",
       "      <td>True</td>\n",
       "      <td>False</td>\n",
       "      <td>False</td>\n",
       "      <td>False</td>\n",
       "      <td>False</td>\n",
       "      <td>negative</td>\n",
       "      <td>NaN</td>\n",
       "      <td>NaN</td>\n",
       "      <td>Abroad</td>\n",
       "    </tr>\n",
       "    <tr>\n",
       "      <th>4</th>\n",
       "      <td>5</td>\n",
       "      <td>11-03-2020</td>\n",
       "      <td>True</td>\n",
       "      <td>False</td>\n",
       "      <td>False</td>\n",
       "      <td>False</td>\n",
       "      <td>False</td>\n",
       "      <td>negative</td>\n",
       "      <td>NaN</td>\n",
       "      <td>NaN</td>\n",
       "      <td>Contact with confirmed</td>\n",
       "    </tr>\n",
       "  </tbody>\n",
       "</table>\n",
       "</div>"
      ],
      "text/plain": [
       "   Ind_ID   Test_date Cough_symptoms  Fever Sore_throat Shortness_of_breath  \\\n",
       "0       1  11-03-2020           True  False        True               False   \n",
       "1       2  11-03-2020          False   True       False               False   \n",
       "2       3  11-03-2020          False   True       False               False   \n",
       "3       4  11-03-2020           True  False       False               False   \n",
       "4       5  11-03-2020           True  False       False               False   \n",
       "\n",
       "  Headache    Corona Age_60_above  Sex           Known_contact  \n",
       "0    False  negative          NaN  NaN                  Abroad  \n",
       "1    False  positive          NaN  NaN                  Abroad  \n",
       "2    False  positive          NaN  NaN                  Abroad  \n",
       "3    False  negative          NaN  NaN                  Abroad  \n",
       "4    False  negative          NaN  NaN  Contact with confirmed  "
      ]
     },
     "execution_count": 4,
     "metadata": {},
     "output_type": "execute_result"
    }
   ],
   "source": [
    "df.head()"
   ]
  },
  {
   "cell_type": "markdown",
   "id": "f57b79a8",
   "metadata": {},
   "source": [
    "Then they do some data preprocessing."
   ]
  },
  {
   "cell_type": "code",
   "execution_count": 5,
   "id": "a88fc826",
   "metadata": {},
   "outputs": [
    {
     "data": {
      "text/plain": [
       "(278848, 11)"
      ]
     },
     "execution_count": 5,
     "metadata": {},
     "output_type": "execute_result"
    }
   ],
   "source": [
    "df.shape"
   ]
  },
  {
   "cell_type": "code",
   "execution_count": 6,
   "id": "65bf27c1",
   "metadata": {},
   "outputs": [
    {
     "name": "stdout",
     "output_type": "stream",
     "text": [
      "<class 'pandas.core.frame.DataFrame'>\n",
      "RangeIndex: 278848 entries, 0 to 278847\n",
      "Data columns (total 11 columns):\n",
      " #   Column               Non-Null Count   Dtype \n",
      "---  ------               --------------   ----- \n",
      " 0   Ind_ID               278848 non-null  int64 \n",
      " 1   Test_date            278848 non-null  object\n",
      " 2   Cough_symptoms       278596 non-null  object\n",
      " 3   Fever                278596 non-null  object\n",
      " 4   Sore_throat          278847 non-null  object\n",
      " 5   Shortness_of_breath  278847 non-null  object\n",
      " 6   Headache             278847 non-null  object\n",
      " 7   Corona               278848 non-null  object\n",
      " 8   Age_60_above         151528 non-null  object\n",
      " 9   Sex                  259285 non-null  object\n",
      " 10  Known_contact        278848 non-null  object\n",
      "dtypes: int64(1), object(10)\n",
      "memory usage: 23.4+ MB\n"
     ]
    }
   ],
   "source": [
    "df.info()"
   ]
  },
  {
   "cell_type": "code",
   "execution_count": 7,
   "id": "ec8915cf",
   "metadata": {},
   "outputs": [],
   "source": [
    "# replacing the none values with Nan values\n",
    "\n",
    "df.replace({'None': np.nan}, inplace=True)"
   ]
  },
  {
   "cell_type": "code",
   "execution_count": 8,
   "id": "950ad3b4",
   "metadata": {},
   "outputs": [
    {
     "data": {
      "text/plain": [
       "Ind_ID                      0\n",
       "Test_date                   0\n",
       "Cough_symptoms            252\n",
       "Fever                     252\n",
       "Sore_throat                 1\n",
       "Shortness_of_breath         1\n",
       "Headache                    1\n",
       "Corona                      0\n",
       "Age_60_above           127320\n",
       "Sex                     19563\n",
       "Known_contact               0\n",
       "dtype: int64"
      ]
     },
     "execution_count": 8,
     "metadata": {},
     "output_type": "execute_result"
    }
   ],
   "source": [
    "df.isnull().sum()"
   ]
  },
  {
   "cell_type": "markdown",
   "id": "a595e78c",
   "metadata": {},
   "source": [
    "Following code block deletes the rows that have NaNs in the specified columns."
   ]
  },
  {
   "cell_type": "code",
   "execution_count": 9,
   "id": "675d4b4d",
   "metadata": {},
   "outputs": [],
   "source": [
    "# Dropping the nan values from columns\n",
    "\n",
    "df.dropna(subset=['Cough_symptoms','Fever','Sore_throat','Shortness_of_breath','Headache'],axis=0,inplace=True)"
   ]
  },
  {
   "cell_type": "markdown",
   "id": "3b3e908b",
   "metadata": {},
   "source": [
    "Then we remove the Age_60_above column as it has way too many NaNs."
   ]
  },
  {
   "cell_type": "code",
   "execution_count": null,
   "id": "87737788",
   "metadata": {},
   "outputs": [],
   "source": [
    "# dropping the age_60_above column\n",
    "\n",
    "df.drop('Age_60_above',axis=1,inplace=True)"
   ]
  },
  {
   "cell_type": "code",
   "execution_count": null,
   "id": "eb358cde",
   "metadata": {},
   "outputs": [],
   "source": [
    "# # replacing the none values with Nan values\n",
    "\n",
    "df.replace({'other': np.nan},inplace=True)"
   ]
  },
  {
   "cell_type": "code",
   "execution_count": null,
   "id": "42ff8d1a",
   "metadata": {},
   "outputs": [],
   "source": [
    "# Dropping the nan values from columns\n",
    "\n",
    "df.dropna(subset=['Corona'],axis=0,inplace=True)"
   ]
  },
  {
   "cell_type": "code",
   "execution_count": null,
   "id": "edde1515",
   "metadata": {},
   "outputs": [],
   "source": [
    "# converting the datatype as categorical\n",
    "\n",
    "for i in df.columns:\n",
    "    if i=='Ind_ID' or i == 'Test_date':\n",
    "        pass\n",
    "    else:\n",
    "        df[i] = df[i].astype('category')"
   ]
  },
  {
   "cell_type": "code",
   "execution_count": null,
   "id": "bfc2c09c",
   "metadata": {},
   "outputs": [],
   "source": [
    "df.info()"
   ]
  },
  {
   "cell_type": "markdown",
   "id": "249346f4",
   "metadata": {},
   "source": [
    "Then some EDA."
   ]
  },
  {
   "cell_type": "code",
   "execution_count": null,
   "id": "23933bfd",
   "metadata": {},
   "outputs": [],
   "source": [
    "sns.set_style('dark')"
   ]
  },
  {
   "cell_type": "code",
   "execution_count": null,
   "id": "f71d0b7d",
   "metadata": {},
   "outputs": [],
   "source": [
    "cols = ['Cough_symptoms', 'Fever', 'Sore_throat']\n",
    "\n",
    "# Set up the figure and axes\n",
    "\n",
    "fig, axes = plt.subplots(nrows=1, ncols=3, figsize=(18, 6))\n",
    "\n",
    "# Plot univariate distributions for each column\n",
    "for i, col in enumerate(cols):\n",
    "    sns.countplot(data=df , x=col, ax=axes[i])\n",
    "    axes[i].set_title(f'Distribution of {col}' , fontsize=18 )\n",
    "    axes[i].set_ylabel('Count')\n",
    "    axes[i].tick_params(axis='x')\n",
    "    axes[i].grid(True)\n",
    "\n",
    "plt.tight_layout()\n",
    "plt.show()"
   ]
  },
  {
   "cell_type": "code",
   "execution_count": null,
   "id": "93ed326d",
   "metadata": {},
   "outputs": [],
   "source": [
    "cols = ['Shortness_of_breath','Headache',\t'Corona']\n",
    "\n",
    "# Set up the figure and axes\n",
    "\n",
    "fig, axes = plt.subplots(nrows=1, ncols=3, figsize=(18, 6))\n",
    "\n",
    "# Plot univariate distributions for each column\n",
    "for i, col in enumerate(cols):\n",
    "    sns.countplot(data=df , x=col, ax=axes[i])\n",
    "    axes[i].set_title(f'Distribution of {col}' , fontsize=18 )\n",
    "    axes[i].set_ylabel('Count')\n",
    "    axes[i].tick_params(axis='x')\n",
    "    axes[i].grid(True)\n",
    "\n",
    "plt.tight_layout()\n",
    "plt.show()"
   ]
  },
  {
   "cell_type": "code",
   "execution_count": null,
   "id": "7e89dc93",
   "metadata": {},
   "outputs": [],
   "source": [
    "cols = ['Sex',\t'Known_contact']\n",
    "\n",
    "# Set up the figure and axes\n",
    "\n",
    "fig, axes = plt.subplots(nrows=1, ncols=2, figsize=(18, 6))\n",
    "\n",
    "# Plot univariate distributions for each column\n",
    "for i, col in enumerate(cols):\n",
    "    sns.countplot(data=df , x=col, ax=axes[i])\n",
    "    axes[i].set_title(f'Distribution of {col}' , fontsize=18 )\n",
    "    axes[i].set_ylabel('Count')\n",
    "    axes[i].tick_params(axis='x')\n",
    "    axes[i].grid(True)\n",
    "\n",
    "plt.tight_layout()\n",
    "plt.show()"
   ]
  },
  {
   "cell_type": "markdown",
   "id": "5958f856",
   "metadata": {},
   "source": [
    "Now we plot for each label (positive or negative)."
   ]
  },
  {
   "cell_type": "code",
   "execution_count": null,
   "id": "6ff686b9",
   "metadata": {},
   "outputs": [],
   "source": [
    "cols = ['Cough_symptoms', 'Fever', 'Sore_throat']\n",
    "\n",
    "# Set up the figure and axes\n",
    "\n",
    "fig, axes = plt.subplots(nrows=1, ncols=3, figsize=(18, 6))\n",
    "\n",
    "# Plot univariate distributions for each column\n",
    "for i, col in enumerate(cols):\n",
    "    sns.countplot(data=df , x=col,hue='Corona', ax=axes[i]  , palette=\"Set2\")\n",
    "    axes[i].set_title(f'Distribution of {col}' , fontsize=18 )\n",
    "    axes[i].set_ylabel('Count')\n",
    "    axes[i].tick_params(axis='x')\n",
    "    axes[i].grid(True)\n",
    "\n",
    "plt.tight_layout()\n",
    "plt.show()"
   ]
  },
  {
   "cell_type": "code",
   "execution_count": null,
   "id": "7c5390de",
   "metadata": {},
   "outputs": [],
   "source": [
    "cols = ['Shortness_of_breath','Headache']\n",
    "\n",
    "# Set up the figure and axes\n",
    "\n",
    "fig, axes = plt.subplots(nrows=1, ncols=2, figsize=(10,4))\n",
    "\n",
    "# Plot univariate distributions for each column\n",
    "for i, col in enumerate(cols):\n",
    "    sns.countplot(data=df , x=col,hue='Corona', ax=axes[i]  , palette=\"Set2\")\n",
    "    axes[i].set_title(f'Distribution of {col}' , fontsize=18 )\n",
    "    axes[i].set_ylabel('Count')\n",
    "    axes[i].tick_params(axis='x')\n",
    "    axes[i].grid(True)\n",
    "\n",
    "plt.tight_layout()\n",
    "plt.show()"
   ]
  },
  {
   "cell_type": "code",
   "execution_count": null,
   "id": "9b8682d2",
   "metadata": {},
   "outputs": [],
   "source": [
    "cols = ['Sex',\t'Known_contact']\n",
    "\n",
    "# Set up the figure and axes\n",
    "\n",
    "fig, axes = plt.subplots(nrows=1, ncols=2, figsize=(10, 4))\n",
    "\n",
    "# Plot univariate distributions for each column\n",
    "for i, col in enumerate(cols):\n",
    "    sns.countplot(data=df , x=col,hue='Corona', ax=axes[i]  , palette=\"Set2\")\n",
    "    axes[i].set_title(f'Distribution of {col}' , fontsize=12 )\n",
    "    axes[i].set_ylabel('Count')\n",
    "    axes[i].tick_params(axis='x')\n",
    "    axes[i].grid(True)\n",
    "\n",
    "plt.tight_layout()\n",
    "plt.show()"
   ]
  },
  {
   "cell_type": "markdown",
   "id": "f3c0dae3",
   "metadata": {},
   "source": [
    "These were the authors comments:\n",
    "\n",
    "Cough_symptoms: A significant number of individuals who tested negative also reported no cough symptoms. However, among those who reported having a cough, the number of positive cases is relatively higher.\n",
    "\n",
    "Fever: Most individuals did not report having a fever. Among those who did, the number of positive cases is higher than negative cases.\n",
    "\n",
    "Sore_throat: The majority did not experience this symptom.\n",
    "\n",
    "Shortness_of_breath: This symptom was also not common among the individuals.\n",
    "\n",
    "Headache: A notable number of individuals reported not having headaches.\n",
    "\n",
    "Age_60_above: A considerable number of individuals were below 60 years of age.\n",
    "\n",
    "Sex: The number of females and males in the dataset is almost evenly distributed.\n",
    "\n",
    "Known_contact: Most individuals did not have a known contact with a confirmed case."
   ]
  },
  {
   "cell_type": "markdown",
   "id": "d1da488d",
   "metadata": {},
   "source": [
    "Next they do what they call 'feature transformation' which really is just converting labels to numbers."
   ]
  },
  {
   "cell_type": "code",
   "execution_count": null,
   "id": "02cf7c4f",
   "metadata": {},
   "outputs": [],
   "source": [
    "# creating a copy of original dataframe\n",
    "\n",
    "covid_df = df.copy(deep=True)"
   ]
  },
  {
   "cell_type": "code",
   "execution_count": null,
   "id": "4a9d109f",
   "metadata": {},
   "outputs": [],
   "source": [
    "# Encoding\n",
    "\n",
    "covid_df['Cough_symptoms'] = pd.get_dummies(covid_df['Cough_symptoms'],drop_first=True)  # to aviod multicolinearity\n",
    "\n",
    "covid_df['Fever'] = pd.get_dummies(covid_df['Fever'],drop_first=True)\n",
    "\n",
    "covid_df['Sore_throat'] = pd.get_dummies(covid_df['Sore_throat'],drop_first=True)\n",
    "\n",
    "covid_df['Shortness_of_breath'] = pd.get_dummies(covid_df['Shortness_of_breath'],drop_first=True)\n",
    "\n",
    "covid_df['Headache'] = pd.get_dummies(covid_df['Headache'],drop_first=True)\n",
    "\n",
    "covid_df['Corona'] = pd.get_dummies(covid_df['Corona'],drop_first=True)"
   ]
  },
  {
   "cell_type": "code",
   "execution_count": null,
   "id": "425f17d4",
   "metadata": {},
   "outputs": [],
   "source": [
    "# encoding\n",
    "\n",
    "covid_df['Sex'].replace({'male':0,'female':1},inplace=True)\n",
    "covid_df['Known_contact'].replace({'Other':2,'Contact with confirmed':1,'Abroad':0},inplace=True)"
   ]
  },
  {
   "cell_type": "code",
   "execution_count": null,
   "id": "41f3d56f",
   "metadata": {},
   "outputs": [],
   "source": [
    "covid_df.head()"
   ]
  },
  {
   "cell_type": "code",
   "execution_count": null,
   "id": "06ee8de9",
   "metadata": {},
   "outputs": [],
   "source": [
    "covid_df.isnull().sum()"
   ]
  },
  {
   "cell_type": "markdown",
   "id": "0c55f3f6",
   "metadata": {},
   "source": [
    "Now they do 'missing value imputation'"
   ]
  },
  {
   "cell_type": "code",
   "execution_count": null,
   "id": "c1dc6d67",
   "metadata": {},
   "outputs": [],
   "source": [
    "from sklearn.impute import KNNImputer"
   ]
  },
  {
   "cell_type": "code",
   "execution_count": null,
   "id": "be924f8c",
   "metadata": {},
   "outputs": [],
   "source": [
    "# creating a copy of original dataframe\n",
    "\n",
    "imputed_data = covid_df.copy(deep=True)"
   ]
  },
  {
   "cell_type": "code",
   "execution_count": null,
   "id": "031ab14c",
   "metadata": {},
   "outputs": [],
   "source": [
    "# applying KNN imputation\n",
    "\n",
    "knn=KNNImputer(n_neighbors=5,weights='uniform')\n",
    "columns=['Cough_symptoms', 'Fever', 'Sore_throat','Shortness_of_breath', 'Headache','Sex','Known_contact']\n",
    "imputed=knn.fit_transform(covid_df[columns])"
   ]
  },
  {
   "cell_type": "code",
   "execution_count": null,
   "id": "5f03d890",
   "metadata": {},
   "outputs": [],
   "source": [
    "df1 = pandas.DataFrame(imputed,columns=columns)"
   ]
  },
  {
   "cell_type": "code",
   "execution_count": null,
   "id": "ede2b534",
   "metadata": {},
   "outputs": [],
   "source": [
    "imputed_data.info()"
   ]
  },
  {
   "cell_type": "code",
   "execution_count": null,
   "id": "c87869bd",
   "metadata": {},
   "outputs": [],
   "source": [
    "imputed_data['Sex'] = imputed_data['Sex'].astype('uint8')"
   ]
  }
 ],
 "metadata": {
  "kernelspec": {
   "display_name": "Python 3 (ipykernel)",
   "language": "python",
   "name": "python3"
  },
  "language_info": {
   "codemirror_mode": {
    "name": "ipython",
    "version": 3
   },
   "file_extension": ".py",
   "mimetype": "text/x-python",
   "name": "python",
   "nbconvert_exporter": "python",
   "pygments_lexer": "ipython3",
   "version": "3.9.12"
  }
 },
 "nbformat": 4,
 "nbformat_minor": 5
}
