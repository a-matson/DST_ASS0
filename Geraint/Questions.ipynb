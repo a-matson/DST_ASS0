{
 "cells": [
  {
   "cell_type": "code",
   "execution_count": null,
   "id": "f5952d7a",
   "metadata": {},
   "outputs": [],
   "source": [
    "• What are the broad types of data?\n",
    "Nominal qualitative data/unstructured (diagnosis, demographic), discrete and continuous qualitative data/structured\n",
    "(laboratory and test reults)\n",
    "\n",
    "• What are the main types of resource?\n",
    "Electronic health records, Health Information Exchange?, Public Health Records, research studies, medical insurance-related data, \n",
    "prescriptions, clinical reports, information about the purchase of medicines, smartphones, wearable devices and \n",
    "laboratory reports\n",
    "\n",
    "• What type of problems can the resources solve?\n",
    "Disease surveillance (Early detection, prevention and aetiology), improved pharmacovigilance,\n",
    "Better quality of care, affordability of care, Privacy and fraud detection, healthcare administration\n",
    "\n",
    "• Are there any generic data science resources that might be applicable? In\n",
    "what sense are they applicable?\n",
    "Global health Data Science, Health Information Exchange?\n",
    "\n",
    "• How might the approach be compared to other approaches, and/or applied\n",
    "across different datasets?\n",
    "Higher emphasis on diagnostic, predictive and prescriptive approaches rather than descriptive\n",
    "\n",
    "• How is the experience of sharing code via GitHub limiting, and/or enabling?"
   ]
  }
 ],
 "metadata": {
  "kernelspec": {
   "display_name": "Python 3 (ipykernel)",
   "language": "python",
   "name": "python3"
  },
  "language_info": {
   "codemirror_mode": {
    "name": "ipython",
    "version": 3
   },
   "file_extension": ".py",
   "mimetype": "text/x-python",
   "name": "python",
   "nbconvert_exporter": "python",
   "pygments_lexer": "ipython3",
   "version": "3.9.12"
  }
 },
 "nbformat": 4,
 "nbformat_minor": 5
}
